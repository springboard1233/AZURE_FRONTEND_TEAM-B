{
 "cells": [
  {
   "cell_type": "code",
   "execution_count": 3,
   "id": "8eea090c",
   "metadata": {},
   "outputs": [
    {
     "name": "stdout",
     "output_type": "stream",
     "text": [
      "ERROR: Could not find data files in 'data/raw'. Please check the file paths.\n"
     ]
    }
   ],
   "source": [
    "import pandas as pd\n",
    "import os\n",
    "\n",
    "# --- MILESTONE 2: FEATURE ENGINEERING ---\n",
    "\n",
    "# --- 1. Load the Merged Data ---\n",
    "# Ensure your CSV files are in the 'data/raw' folder\n",
    "usage_path = 'data/raw/azure_usage.csv'\n",
    "factors_path = 'data/raw/external_factors.csv.csv'\n",
    "processed_folder = 'data/processed'\n",
    "\n",
    "if not os.path.exists(processed_folder):\n",
    "    os.makedirs(processed_folder)\n",
    "\n",
    "try:\n",
    "    usage_df = pd.read_csv(usage_path)\n",
    "    factors_df = pd.read_csv(factors_path)\n",
    "    df = pd.merge(usage_df, factors_df, on='date')\n",
    "    df['date'] = pd.to_datetime(df['date'])\n",
    "    print(\"Successfully loaded and merged data.\")\n",
    "except FileNotFoundError:\n",
    "    print(\"ERROR: Could not find data files in 'data/raw'. Please check the file paths.\")\n",
    "    df = pd.DataFrame()\n",
    "\n",
    "if not df.empty:\n",
    "    # --- 2. Create Time-Based Features ---\n",
    "    df['month'] = df['date'].dt.month\n",
    "    df['day_of_week'] = df['date'].dt.dayofweek # Monday=0, Sunday=6\n",
    "    df['day_of_month'] = df['date'].dt.day\n",
    "    df['week_of_year'] = df['date'].dt.isocalendar().week\n",
    "\n",
    "    # --- 3. Create Lag Features (usage from the previous day) ---\n",
    "    df.sort_values(by=['region', 'resource_type', 'date'], inplace=True)\n",
    "    df['cpu_lag_1'] = df.groupby(['region', 'resource_type'])['usage_cpu'].shift(1)\n",
    "\n",
    "    # --- 4. Create Rolling Window Features (average usage over the last 7 days) ---\n",
    "    df['cpu_rolling_mean_7'] = df.groupby(['region', 'resource_type'])['usage_cpu'].transform(\n",
    "        lambda x: x.rolling(window=7, min_periods=1).mean()\n",
    "    )\n",
    "\n",
    "    # --- 5. Display the Data with New Features ---\n",
    "    df_features = df.dropna() # Drop rows with NaN values from lag/rolling features\n",
    "\n",
    "    print(\"\\nDataset with new features (first 10 rows):\")\n",
    "    print(df_features.head(10))\n",
    "\n",
    "    # --- 6. Save the new featured dataset ---\n",
    "    featured_data_path = os.path.join(processed_folder, 'featured_dataset.csv')\n",
    "    df_features.to_csv(featured_data_path, index=False)\n",
    "    print(f\"\\nSuccessfully created new features and saved to '{featured_data_path}'\")"
   ]
  }
 ],
 "metadata": {
  "kernelspec": {
   "display_name": ".venv",
   "language": "python",
   "name": "python3"
  },
  "language_info": {
   "codemirror_mode": {
    "name": "ipython",
    "version": 3
   },
   "file_extension": ".py",
   "mimetype": "text/x-python",
   "name": "python",
   "nbconvert_exporter": "python",
   "pygments_lexer": "ipython3",
   "version": "3.11.0"
  }
 },
 "nbformat": 4,
 "nbformat_minor": 5
}
